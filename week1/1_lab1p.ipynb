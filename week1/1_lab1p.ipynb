{
 "cells": [
  {
   "cell_type": "code",
   "execution_count": 3,
   "id": "d03d02d6-f545-4d28-9af8-aa44bc039759",
   "metadata": {},
   "outputs": [],
   "source": [
    "import ollama"
   ]
  },
  {
   "cell_type": "code",
   "execution_count": 2,
   "id": "17a121f3-4707-4c77-a644-cf354d535766",
   "metadata": {},
   "outputs": [
    {
     "data": {
      "text/plain": [
       "True"
      ]
     },
     "execution_count": 2,
     "metadata": {},
     "output_type": "execute_result"
    }
   ],
   "source": [
    "from dotenv import load_dotenv\n",
    "\n",
    "load_dotenv(override=True)\n",
    "\n"
   ]
  },
  {
   "cell_type": "code",
   "execution_count": 5,
   "id": "415f63d2-ddec-4da6-9e02-d8b10a83028d",
   "metadata": {},
   "outputs": [
    {
     "name": "stdout",
     "output_type": "stream",
     "text": [
      "yes openai api key exist and begins: sk-p\n"
     ]
    }
   ],
   "source": [
    "import os\n",
    "\n",
    "openai_api_key = os.getenv('OPENAI_API_KEY')  #get the value of environment variable which is OPENAI_API_KEY and store it in openai_api_key\n",
    "if openai_api_key:\n",
    "    print(f'yes openai api key exist and begins: {openai_api_key[:4]}')\n",
    "else:\n",
    "    print('no openai api key does not exist')\n",
    "\n"
   ]
  },
  {
   "cell_type": "code",
   "execution_count": 11,
   "id": "b3327879-c94f-4f4b-a747-1de77511d958",
   "metadata": {},
   "outputs": [
    {
     "name": "stdout",
     "output_type": "stream",
     "text": [
      "4 + 9 equals 13.\n"
     ]
    }
   ],
   "source": [
    "from openai import OpenAI\n",
    "\n",
    "openai = OpenAI()\n",
    "\n",
    "messages = [{\"role\":\"user\", \"content\":\"what is 4+9?\"}]\n",
    "\n",
    "response = openai.chat.completions.create(\n",
    "    model=\"gpt-4o-mini\",\n",
    "    messages=messages\n",
    "\n",
    ")\n",
    "print(response.choices[0].message.content)"
   ]
  },
  {
   "cell_type": "code",
   "execution_count": 12,
   "id": "133e45a2-efe2-4e0e-9c68-1a6d18fb8733",
   "metadata": {},
   "outputs": [
    {
     "data": {
      "text/plain": [
       "\"Sure! Here's a challenging question that requires logical reasoning and critical thinking:\\n\\n**The Two Doors Riddle:**\\n\\nYou find yourself in a room with two doors. One door leads to freedom, while the other leads to certain doom. In front of each door stands a guard. One guard always tells the truth, and the other always lies. You do not know which guard is which. You can ask one guard only one question to determine which door leads to freedom. \\n\\nWhat question do you ask? \\n\\n**(Note: This question assesses problem-solving skills and logical reasoning.)**\""
      ]
     },
     "execution_count": 12,
     "metadata": {},
     "output_type": "execute_result"
    }
   ],
   "source": [
    "question = \"please propose a hard challenging question to assess someone's IQ.please respond with the question\"\n",
    "messages = [{\"role\":\"user\", \"content\":question}]\n",
    "response = openai.chat.completions.create(\n",
    "    model=\"gpt-4o-mini\",\n",
    "    messages=messages\n",
    ")\n",
    "response.choices[0].message.content"
   ]
  },
  {
   "cell_type": "code",
   "execution_count": 17,
   "id": "0deb5b4c-c146-4110-9595-c2dc1659d096",
   "metadata": {},
   "outputs": [
    {
     "name": "stdout",
     "output_type": "stream",
     "text": [
      "Why did the data scientist break up with his girlfriend?\n",
      "\n",
      "Because he realized their relationship was just a correlation, and not a causation.\n"
     ]
    }
   ],
   "source": [
    "# now we want to set everything with ollama\n",
    "\n",
    "from openai import OpenAI\n",
    "import ollama\n",
    "\n",
    "\n",
    "messages = [{\n",
    "    \"role\":\"user\",\n",
    "    \"content\":\"tell me a joke about data scientists\"\n",
    "}]\n",
    "\n",
    "\n",
    "\n",
    "response = ollama.chat(\n",
    "    model= \"llama3.2\",\n",
    "    messages=messages\n",
    ")\n",
    "print(response.message.content)\n",
    "    "
   ]
  },
  {
   "cell_type": "code",
   "execution_count": null,
   "id": "9d94cca1-f399-4f85-9758-d15dad2f656a",
   "metadata": {},
   "outputs": [],
   "source": []
  }
 ],
 "metadata": {
  "kernelspec": {
   "display_name": "Python 3 (ipykernel)",
   "language": "python",
   "name": "python3"
  },
  "language_info": {
   "codemirror_mode": {
    "name": "ipython",
    "version": 3
   },
   "file_extension": ".py",
   "mimetype": "text/x-python",
   "name": "python",
   "nbconvert_exporter": "python",
   "pygments_lexer": "ipython3",
   "version": "3.12.7"
  }
 },
 "nbformat": 4,
 "nbformat_minor": 5
}
